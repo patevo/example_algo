{
 "cells": [
  {
   "cell_type": "markdown",
   "metadata": {},
   "source": [
    "# Przykład do metody ALS"
   ]
  },
  {
   "cell_type": "markdown",
   "metadata": {},
   "source": [
    "### Disclaimer  \n",
    "Nie zwracajcie uwagi na kod tylko na sam przykład aby zobaczyć jak to się liczy   \n",
    "\n",
    "---"
   ]
  },
  {
   "cell_type": "markdown",
   "metadata": {},
   "source": [
    "Tu nie jest nic ważnego, importowanie paczek itd."
   ]
  },
  {
   "cell_type": "code",
   "execution_count": 30,
   "metadata": {},
   "outputs": [],
   "source": [
    "import pandas as pd\n",
    "import numpy as np\n",
    "\n",
    "gauss_method = np.linalg.solve"
   ]
  },
  {
   "cell_type": "markdown",
   "metadata": {},
   "source": [
    "Mamy przykładowe dane:"
   ]
  },
  {
   "cell_type": "code",
   "execution_count": 31,
   "metadata": {},
   "outputs": [
    {
     "data": {
      "text/html": [
       "<div>\n",
       "<style scoped>\n",
       "    .dataframe tbody tr th:only-of-type {\n",
       "        vertical-align: middle;\n",
       "    }\n",
       "\n",
       "    .dataframe tbody tr th {\n",
       "        vertical-align: top;\n",
       "    }\n",
       "\n",
       "    .dataframe thead th {\n",
       "        text-align: right;\n",
       "    }\n",
       "</style>\n",
       "<table border=\"1\" class=\"dataframe\">\n",
       "  <thead>\n",
       "    <tr style=\"text-align: right;\">\n",
       "      <th></th>\n",
       "      <th>id_user</th>\n",
       "      <th>id_product</th>\n",
       "      <th>rating</th>\n",
       "      <th>category</th>\n",
       "    </tr>\n",
       "  </thead>\n",
       "  <tbody>\n",
       "    <tr>\n",
       "      <th>0</th>\n",
       "      <td>0</td>\n",
       "      <td>4</td>\n",
       "      <td>4</td>\n",
       "      <td>Books</td>\n",
       "    </tr>\n",
       "    <tr>\n",
       "      <th>1</th>\n",
       "      <td>0</td>\n",
       "      <td>6</td>\n",
       "      <td>5</td>\n",
       "      <td>Books</td>\n",
       "    </tr>\n",
       "    <tr>\n",
       "      <th>2</th>\n",
       "      <td>0</td>\n",
       "      <td>7</td>\n",
       "      <td>4</td>\n",
       "      <td>Books</td>\n",
       "    </tr>\n",
       "    <tr>\n",
       "      <th>3</th>\n",
       "      <td>1</td>\n",
       "      <td>0</td>\n",
       "      <td>4</td>\n",
       "      <td>Books</td>\n",
       "    </tr>\n",
       "    <tr>\n",
       "      <th>4</th>\n",
       "      <td>1</td>\n",
       "      <td>2</td>\n",
       "      <td>4</td>\n",
       "      <td>Books</td>\n",
       "    </tr>\n",
       "    <tr>\n",
       "      <th>5</th>\n",
       "      <td>1</td>\n",
       "      <td>5</td>\n",
       "      <td>4</td>\n",
       "      <td>Books</td>\n",
       "    </tr>\n",
       "    <tr>\n",
       "      <th>6</th>\n",
       "      <td>1</td>\n",
       "      <td>9</td>\n",
       "      <td>4</td>\n",
       "      <td>Books</td>\n",
       "    </tr>\n",
       "    <tr>\n",
       "      <th>7</th>\n",
       "      <td>2</td>\n",
       "      <td>0</td>\n",
       "      <td>5</td>\n",
       "      <td>Books</td>\n",
       "    </tr>\n",
       "    <tr>\n",
       "      <th>8</th>\n",
       "      <td>2</td>\n",
       "      <td>1</td>\n",
       "      <td>4</td>\n",
       "      <td>Books</td>\n",
       "    </tr>\n",
       "    <tr>\n",
       "      <th>9</th>\n",
       "      <td>2</td>\n",
       "      <td>2</td>\n",
       "      <td>5</td>\n",
       "      <td>Books</td>\n",
       "    </tr>\n",
       "    <tr>\n",
       "      <th>10</th>\n",
       "      <td>2</td>\n",
       "      <td>3</td>\n",
       "      <td>5</td>\n",
       "      <td>Books</td>\n",
       "    </tr>\n",
       "    <tr>\n",
       "      <th>11</th>\n",
       "      <td>2</td>\n",
       "      <td>5</td>\n",
       "      <td>5</td>\n",
       "      <td>Books</td>\n",
       "    </tr>\n",
       "    <tr>\n",
       "      <th>12</th>\n",
       "      <td>2</td>\n",
       "      <td>6</td>\n",
       "      <td>5</td>\n",
       "      <td>Books</td>\n",
       "    </tr>\n",
       "    <tr>\n",
       "      <th>13</th>\n",
       "      <td>2</td>\n",
       "      <td>7</td>\n",
       "      <td>5</td>\n",
       "      <td>Books</td>\n",
       "    </tr>\n",
       "    <tr>\n",
       "      <th>14</th>\n",
       "      <td>2</td>\n",
       "      <td>8</td>\n",
       "      <td>5</td>\n",
       "      <td>Books</td>\n",
       "    </tr>\n",
       "    <tr>\n",
       "      <th>15</th>\n",
       "      <td>2</td>\n",
       "      <td>9</td>\n",
       "      <td>5</td>\n",
       "      <td>Books</td>\n",
       "    </tr>\n",
       "    <tr>\n",
       "      <th>16</th>\n",
       "      <td>3</td>\n",
       "      <td>1</td>\n",
       "      <td>5</td>\n",
       "      <td>Books</td>\n",
       "    </tr>\n",
       "    <tr>\n",
       "      <th>17</th>\n",
       "      <td>3</td>\n",
       "      <td>2</td>\n",
       "      <td>5</td>\n",
       "      <td>Books</td>\n",
       "    </tr>\n",
       "    <tr>\n",
       "      <th>18</th>\n",
       "      <td>3</td>\n",
       "      <td>4</td>\n",
       "      <td>5</td>\n",
       "      <td>Books</td>\n",
       "    </tr>\n",
       "    <tr>\n",
       "      <th>19</th>\n",
       "      <td>3</td>\n",
       "      <td>7</td>\n",
       "      <td>5</td>\n",
       "      <td>Books</td>\n",
       "    </tr>\n",
       "    <tr>\n",
       "      <th>20</th>\n",
       "      <td>3</td>\n",
       "      <td>9</td>\n",
       "      <td>5</td>\n",
       "      <td>Books</td>\n",
       "    </tr>\n",
       "    <tr>\n",
       "      <th>21</th>\n",
       "      <td>4</td>\n",
       "      <td>1</td>\n",
       "      <td>5</td>\n",
       "      <td>Books</td>\n",
       "    </tr>\n",
       "    <tr>\n",
       "      <th>22</th>\n",
       "      <td>4</td>\n",
       "      <td>2</td>\n",
       "      <td>5</td>\n",
       "      <td>Books</td>\n",
       "    </tr>\n",
       "    <tr>\n",
       "      <th>23</th>\n",
       "      <td>4</td>\n",
       "      <td>4</td>\n",
       "      <td>5</td>\n",
       "      <td>Books</td>\n",
       "    </tr>\n",
       "    <tr>\n",
       "      <th>24</th>\n",
       "      <td>4</td>\n",
       "      <td>7</td>\n",
       "      <td>5</td>\n",
       "      <td>Books</td>\n",
       "    </tr>\n",
       "    <tr>\n",
       "      <th>25</th>\n",
       "      <td>4</td>\n",
       "      <td>9</td>\n",
       "      <td>5</td>\n",
       "      <td>Books</td>\n",
       "    </tr>\n",
       "  </tbody>\n",
       "</table>\n",
       "</div>"
      ],
      "text/plain": [
       "    id_user  id_product  rating category\n",
       "0         0           4       4    Books\n",
       "1         0           6       5    Books\n",
       "2         0           7       4    Books\n",
       "3         1           0       4    Books\n",
       "4         1           2       4    Books\n",
       "5         1           5       4    Books\n",
       "6         1           9       4    Books\n",
       "7         2           0       5    Books\n",
       "8         2           1       4    Books\n",
       "9         2           2       5    Books\n",
       "10        2           3       5    Books\n",
       "11        2           5       5    Books\n",
       "12        2           6       5    Books\n",
       "13        2           7       5    Books\n",
       "14        2           8       5    Books\n",
       "15        2           9       5    Books\n",
       "16        3           1       5    Books\n",
       "17        3           2       5    Books\n",
       "18        3           4       5    Books\n",
       "19        3           7       5    Books\n",
       "20        3           9       5    Books\n",
       "21        4           1       5    Books\n",
       "22        4           2       5    Books\n",
       "23        4           4       5    Books\n",
       "24        4           7       5    Books\n",
       "25        4           9       5    Books"
      ]
     },
     "execution_count": 31,
     "metadata": {},
     "output_type": "execute_result"
    }
   ],
   "source": [
    "example_data = pd.read_csv('example_data.csv', sep=';')\n",
    "\n",
    "example_data"
   ]
  },
  {
   "cell_type": "markdown",
   "metadata": {},
   "source": [
    "Z podanych danych tworzymy tabele przestawną (_pivot table_) i dla użytkowników którzy nie ocenili produktu uzupełniamy zerami"
   ]
  },
  {
   "cell_type": "code",
   "execution_count": 32,
   "metadata": {},
   "outputs": [
    {
     "data": {
      "text/html": [
       "<div>\n",
       "<style scoped>\n",
       "    .dataframe tbody tr th:only-of-type {\n",
       "        vertical-align: middle;\n",
       "    }\n",
       "\n",
       "    .dataframe tbody tr th {\n",
       "        vertical-align: top;\n",
       "    }\n",
       "\n",
       "    .dataframe thead th {\n",
       "        text-align: right;\n",
       "    }\n",
       "</style>\n",
       "<table border=\"1\" class=\"dataframe\">\n",
       "  <thead>\n",
       "    <tr style=\"text-align: right;\">\n",
       "      <th>id_product</th>\n",
       "      <th>0</th>\n",
       "      <th>1</th>\n",
       "      <th>2</th>\n",
       "      <th>3</th>\n",
       "      <th>4</th>\n",
       "      <th>5</th>\n",
       "      <th>6</th>\n",
       "      <th>7</th>\n",
       "      <th>8</th>\n",
       "      <th>9</th>\n",
       "    </tr>\n",
       "    <tr>\n",
       "      <th>id_user</th>\n",
       "      <th></th>\n",
       "      <th></th>\n",
       "      <th></th>\n",
       "      <th></th>\n",
       "      <th></th>\n",
       "      <th></th>\n",
       "      <th></th>\n",
       "      <th></th>\n",
       "      <th></th>\n",
       "      <th></th>\n",
       "    </tr>\n",
       "  </thead>\n",
       "  <tbody>\n",
       "    <tr>\n",
       "      <th>0</th>\n",
       "      <td>0</td>\n",
       "      <td>0</td>\n",
       "      <td>0</td>\n",
       "      <td>0</td>\n",
       "      <td>4</td>\n",
       "      <td>0</td>\n",
       "      <td>5</td>\n",
       "      <td>4</td>\n",
       "      <td>0</td>\n",
       "      <td>0</td>\n",
       "    </tr>\n",
       "    <tr>\n",
       "      <th>1</th>\n",
       "      <td>4</td>\n",
       "      <td>0</td>\n",
       "      <td>4</td>\n",
       "      <td>0</td>\n",
       "      <td>0</td>\n",
       "      <td>4</td>\n",
       "      <td>0</td>\n",
       "      <td>0</td>\n",
       "      <td>0</td>\n",
       "      <td>4</td>\n",
       "    </tr>\n",
       "    <tr>\n",
       "      <th>2</th>\n",
       "      <td>5</td>\n",
       "      <td>4</td>\n",
       "      <td>5</td>\n",
       "      <td>5</td>\n",
       "      <td>0</td>\n",
       "      <td>5</td>\n",
       "      <td>5</td>\n",
       "      <td>5</td>\n",
       "      <td>5</td>\n",
       "      <td>5</td>\n",
       "    </tr>\n",
       "    <tr>\n",
       "      <th>3</th>\n",
       "      <td>0</td>\n",
       "      <td>5</td>\n",
       "      <td>5</td>\n",
       "      <td>0</td>\n",
       "      <td>5</td>\n",
       "      <td>0</td>\n",
       "      <td>0</td>\n",
       "      <td>5</td>\n",
       "      <td>0</td>\n",
       "      <td>5</td>\n",
       "    </tr>\n",
       "    <tr>\n",
       "      <th>4</th>\n",
       "      <td>0</td>\n",
       "      <td>5</td>\n",
       "      <td>5</td>\n",
       "      <td>0</td>\n",
       "      <td>5</td>\n",
       "      <td>0</td>\n",
       "      <td>0</td>\n",
       "      <td>5</td>\n",
       "      <td>0</td>\n",
       "      <td>5</td>\n",
       "    </tr>\n",
       "  </tbody>\n",
       "</table>\n",
       "</div>"
      ],
      "text/plain": [
       "id_product  0  1  2  3  4  5  6  7  8  9\n",
       "id_user                                 \n",
       "0           0  0  0  0  4  0  5  4  0  0\n",
       "1           4  0  4  0  0  4  0  0  0  4\n",
       "2           5  4  5  5  0  5  5  5  5  5\n",
       "3           0  5  5  0  5  0  0  5  0  5\n",
       "4           0  5  5  0  5  0  0  5  0  5"
      ]
     },
     "execution_count": 32,
     "metadata": {},
     "output_type": "execute_result"
    }
   ],
   "source": [
    "ratings = pd.pivot_table(example_data, values=['rating'], columns=['id_product'], index=['id_user'],\n",
    "                                 aggfunc='first', fill_value=0)\n",
    "ratings['rating']"
   ]
  },
  {
   "cell_type": "markdown",
   "metadata": {},
   "source": [
    "Tak wygląda nasza docelowa macierz.  \n",
    "Każdy **wiersz** reprezenuje jakiegoś użytkownika który dał oceny  \n",
    "Każda **kolumna** reprezentuje jakiś produkt który posiada jakieś oceny"
   ]
  },
  {
   "cell_type": "code",
   "execution_count": 33,
   "metadata": {},
   "outputs": [
    {
     "data": {
      "text/plain": [
       "array([[0, 0, 0, 0, 4, 0, 5, 4, 0, 0],\n",
       "       [4, 0, 4, 0, 0, 4, 0, 0, 0, 4],\n",
       "       [5, 4, 5, 5, 0, 5, 5, 5, 5, 5],\n",
       "       [0, 5, 5, 0, 5, 0, 0, 5, 0, 5],\n",
       "       [0, 5, 5, 0, 5, 0, 0, 5, 0, 5]])"
      ]
     },
     "execution_count": 33,
     "metadata": {},
     "output_type": "execute_result"
    }
   ],
   "source": [
    "ratings_matrix = ratings.values\n",
    "ratings_matrix"
   ]
  },
  {
   "cell_type": "markdown",
   "metadata": {},
   "source": [
    "Teraz jak już mamy przygotowane dane możemy zacząć implementować algorytm ALS  \n",
    "**Patrz zad3.pdf z portalu edukacyjnego, strona 2**"
   ]
  },
  {
   "cell_type": "markdown",
   "metadata": {},
   "source": [
    "Najpierw przyjmimy pewne wartości które sami ustalamy np.:  \n",
    "d = 3   \n",
    "&lambda; = 0.1"
   ]
  },
  {
   "cell_type": "code",
   "execution_count": 34,
   "metadata": {},
   "outputs": [],
   "source": [
    "d = 3\n",
    "reg = 0.1 # lambda"
   ]
  },
  {
   "cell_type": "markdown",
   "metadata": {},
   "source": [
    "#### 1. Nadaj wartości początkowe macierzom **P** i **U**  \n",
    "Macierz P ma wymiary 3×10 (d×'ilość produktów')  \n",
    "Macierz U ma wymiary 3×5  (d×'ilość użytkowników')  \n",
    "Macierze uzupełniamy losowymi wartościami z zakresu _(0,1)_"
   ]
  },
  {
   "cell_type": "markdown",
   "metadata": {},
   "source": [
    "Macierz P"
   ]
  },
  {
   "cell_type": "code",
   "execution_count": 35,
   "metadata": {},
   "outputs": [
    {
     "data": {
      "text/plain": [
       "array([[0.93119636, 0.01215318, 0.82254304, 0.92704314, 0.72097256,\n",
       "        0.1119594 , 0.05907673, 0.27337659, 0.51578453, 0.47299487],\n",
       "       [0.1671686 , 0.02328032, 0.64793332, 0.46310597, 0.98508579,\n",
       "        0.23390272, 0.34862754, 0.29751156, 0.81994987, 0.32293732],\n",
       "       [0.72302848, 0.91165485, 0.70980305, 0.20125138, 0.33071352,\n",
       "        0.40941998, 0.6984816 , 0.94986196, 0.52719633, 0.66722182]])"
      ]
     },
     "execution_count": 35,
     "metadata": {},
     "output_type": "execute_result"
    }
   ],
   "source": [
    "P = np.random.rand(d, 10)\n",
    "P"
   ]
  },
  {
   "cell_type": "markdown",
   "metadata": {},
   "source": [
    "Macierz U"
   ]
  },
  {
   "cell_type": "code",
   "execution_count": 36,
   "metadata": {},
   "outputs": [
    {
     "data": {
      "text/plain": [
       "array([[0.02930222, 0.90635812, 0.71271017],\n",
       "       [0.03319273, 0.2316068 , 0.96492267],\n",
       "       [0.35638381, 0.42064508, 0.83929454]])"
      ]
     },
     "execution_count": 36,
     "metadata": {},
     "output_type": "execute_result"
    }
   ],
   "source": [
    "U = np.random.rand(d, 3)\n",
    "U"
   ]
  },
  {
   "cell_type": "markdown",
   "metadata": {},
   "source": [
    "#### 2. Powtarzaj do osiągnięcia zadowalającego rezultatu:  \n",
    "Tutaj musicie sami zdecydować jaki to jest zadawaljący rezultat np. 100 albo 300 iteracji kroku 3,4,5,6"
   ]
  },
  {
   "cell_type": "markdown",
   "metadata": {},
   "source": [
    "#### 3. for u = 1, 2, . . . n\n",
    "n = ilość użytkowników  \n",
    "Tutaj zrobimy dla u = 0, (dla kolejnych _u_ analogicznie)"
   ]
  },
  {
   "cell_type": "code",
   "execution_count": 37,
   "metadata": {},
   "outputs": [],
   "source": [
    "u = 0"
   ]
  },
  {
   "cell_type": "markdown",
   "metadata": {},
   "source": [
    "Najpierw potrzebujemy _I\\_u_, czyli indeksy produktów którzy otrzymali ocenę (w naszym przypadku różną od 0) od użytkownika _u_  \n",
    "Bierzemy wiersz o indeksie u=0 i sprawdzamy gdzie ocena jest rózna od 0"
   ]
  },
  {
   "cell_type": "code",
   "execution_count": 38,
   "metadata": {},
   "outputs": [
    {
     "data": {
      "text/plain": [
       "array([4, 6, 7])"
      ]
     },
     "execution_count": 38,
     "metadata": {},
     "output_type": "execute_result"
    }
   ],
   "source": [
    "I_u = np.flatnonzero(ratings_matrix[u])\n",
    "I_u"
   ]
  },
  {
   "cell_type": "markdown",
   "metadata": {},
   "source": [
    "Teraz możemy policzyć _P\\_I\\_u_ (czyli kolumny z macierzy _P_ o indeksach w _I\\_u_)"
   ]
  },
  {
   "cell_type": "code",
   "execution_count": 39,
   "metadata": {},
   "outputs": [
    {
     "data": {
      "text/plain": [
       "array([[0.72097256, 0.05907673, 0.27337659],\n",
       "       [0.98508579, 0.34862754, 0.29751156],\n",
       "       [0.33071352, 0.6984816 , 0.94986196]])"
      ]
     },
     "execution_count": 39,
     "metadata": {},
     "output_type": "execute_result"
    }
   ],
   "source": [
    "P_I_u = P[:, I_u]\n",
    "P_I_u"
   ]
  },
  {
   "cell_type": "markdown",
   "metadata": {},
   "source": [
    "Przy okazji możemy policzyć transponowane _P\\_I_u_"
   ]
  },
  {
   "cell_type": "code",
   "execution_count": 40,
   "metadata": {},
   "outputs": [
    {
     "data": {
      "text/plain": [
       "array([[0.72097256, 0.98508579, 0.33071352],\n",
       "       [0.05907673, 0.34862754, 0.6984816 ],\n",
       "       [0.27337659, 0.29751156, 0.94986196]])"
      ]
     },
     "execution_count": 40,
     "metadata": {},
     "output_type": "execute_result"
    }
   ],
   "source": [
    "P_I_u_T = P_I_u.T\n",
    "P_I_u_T"
   ]
  },
  {
   "cell_type": "markdown",
   "metadata": {},
   "source": [
    "Zostaje nam do policzenia macierz _E_ która jest macierzą jednostkową 3×3 (d×d)"
   ]
  },
  {
   "cell_type": "code",
   "execution_count": 41,
   "metadata": {},
   "outputs": [
    {
     "data": {
      "text/plain": [
       "array([[1., 0., 0.],\n",
       "       [0., 1., 0.],\n",
       "       [0., 0., 1.]])"
      ]
     },
     "execution_count": 41,
     "metadata": {},
     "output_type": "execute_result"
    }
   ],
   "source": [
    "E = np.eye(d)\n",
    "E"
   ]
  },
  {
   "cell_type": "markdown",
   "metadata": {},
   "source": [
    "Teraz możemy policzyć macierz _A\\_u_"
   ]
  },
  {
   "cell_type": "code",
   "execution_count": 42,
   "metadata": {},
   "outputs": [
    {
     "data": {
      "text/plain": [
       "array([[0.69802625, 0.81214829, 0.5393694 ],\n",
       "       [0.81214829, 1.2804483 , 0.85188602],\n",
       "       [0.5393694 , 0.85188602, 1.59948571]])"
      ]
     },
     "execution_count": 42,
     "metadata": {},
     "output_type": "execute_result"
    }
   ],
   "source": [
    "A_u = np.matmul(P_I_u, P_I_u_T) + reg * E\n",
    "A_u"
   ]
  },
  {
   "cell_type": "markdown",
   "metadata": {},
   "source": [
    "Następnie liczymy _V\\_u_, czyli musimy dodać do siebie:\n",
    " * kolumnę 4 z macierzy _P_ pomnożoną przez 4 (ocena)\n",
    " * kolumnę 6 z macierzy _P_ pomnożoną przez 5 (ocena)\n",
    " * kolumnę 7 z macierzy _P_ pomnożoną przez 4 (ocena)\n",
    " \n",
    " \n",
    " To wygląda mniej więcej tak:"
   ]
  },
  {
   "cell_type": "code",
   "execution_count": 43,
   "metadata": {},
   "outputs": [
    {
     "name": "stdout",
     "output_type": "stream",
     "text": [
      "rating: 4, P_4 \n",
      "[[0.72097256]\n",
      " [0.98508579]\n",
      " [0.33071352]]\n",
      "\n",
      "rating: 5, P_6 \n",
      "[[0.05907673]\n",
      " [0.34862754]\n",
      " [0.6984816 ]]\n",
      "\n",
      "rating: 4, P_7 \n",
      "[[0.27337659]\n",
      " [0.29751156]\n",
      " [0.94986196]]\n",
      "\n"
     ]
    }
   ],
   "source": [
    "for i in I_u:\n",
    "    print('rating: {}, P_{} '.format(ratings_matrix[u][i], i))\n",
    "    print(P[:, i].reshape(3,1))\n",
    "    print()"
   ]
  },
  {
   "cell_type": "markdown",
   "metadata": {},
   "source": [
    "To teraz mnożymy rating przez P_i, dodajemy i wychodzi nam:"
   ]
  },
  {
   "cell_type": "code",
   "execution_count": 44,
   "metadata": {},
   "outputs": [
    {
     "data": {
      "text/plain": [
       "array([4.27278025, 6.87352709, 8.6147099 ])"
      ]
     },
     "execution_count": 44,
     "metadata": {},
     "output_type": "execute_result"
    }
   ],
   "source": [
    "V_u = np.zeros(d).T\n",
    "for i in I_u:\n",
    "    V_u += ratings_matrix[u][i] * P[:, i]\n",
    "\n",
    "V_u"
   ]
  },
  {
   "cell_type": "markdown",
   "metadata": {},
   "source": [
    "Jak już mamy wszystko policzone, możemy podstawić A_u oraz V_u do gaussa:"
   ]
  },
  {
   "cell_type": "code",
   "execution_count": 45,
   "metadata": {},
   "outputs": [
    {
     "data": {
      "text/plain": [
       "array([-0.45457671,  3.05289459,  3.9132431 ])"
      ]
     },
     "execution_count": 45,
     "metadata": {},
     "output_type": "execute_result"
    }
   ],
   "source": [
    "solution = gauss_method(A_u, V_u) # Tu jest gauss z zadania 2 z częściowym wyborem\n",
    "solution"
   ]
  },
  {
   "cell_type": "markdown",
   "metadata": {},
   "source": [
    "Jak już to policzyliśmy to zamieniamy kolumne u=0 w macierzy _U_ z naszym rozwiązaniem  \n",
    "Macierz _U_ przed zamianą"
   ]
  },
  {
   "cell_type": "code",
   "execution_count": 46,
   "metadata": {},
   "outputs": [
    {
     "data": {
      "text/plain": [
       "array([[0.02930222, 0.90635812, 0.71271017],\n",
       "       [0.03319273, 0.2316068 , 0.96492267],\n",
       "       [0.35638381, 0.42064508, 0.83929454]])"
      ]
     },
     "execution_count": 46,
     "metadata": {},
     "output_type": "execute_result"
    }
   ],
   "source": [
    "U"
   ]
  },
  {
   "cell_type": "markdown",
   "metadata": {},
   "source": [
    "Macierz _U_ po zamianie"
   ]
  },
  {
   "cell_type": "code",
   "execution_count": 47,
   "metadata": {},
   "outputs": [
    {
     "data": {
      "text/plain": [
       "array([[-0.45457671,  0.90635812,  0.71271017],\n",
       "       [ 3.05289459,  0.2316068 ,  0.96492267],\n",
       "       [ 3.9132431 ,  0.42064508,  0.83929454]])"
      ]
     },
     "execution_count": 47,
     "metadata": {},
     "output_type": "execute_result"
    }
   ],
   "source": [
    "U[:, u] = solution\n",
    "U"
   ]
  },
  {
   "cell_type": "markdown",
   "metadata": {},
   "source": [
    "Dla kolejnych _u_ postępujemy analogicznie"
   ]
  },
  {
   "cell_type": "markdown",
   "metadata": {},
   "source": [
    "#### 5. for p = 1, 2, . . . m  \n",
    "m = ilość produktów  \n",
    "Tutaj zrobimy dla p = 0, (dla kolejnych _p_ analogicznie)"
   ]
  },
  {
   "cell_type": "code",
   "execution_count": 48,
   "metadata": {},
   "outputs": [],
   "source": [
    "p = 0"
   ]
  },
  {
   "cell_type": "markdown",
   "metadata": {},
   "source": [
    "Potrzebujemy _I\\_p_, czyli indeksy użytkowników którzy ocenili dany produkt (ocena różna od 0) dla produktu _p_  \n",
    "Bierzemy kolumnę o indeksie 0 i sprawdzamy gdzie ocena jest rózna od 0"
   ]
  },
  {
   "cell_type": "code",
   "execution_count": 49,
   "metadata": {},
   "outputs": [
    {
     "data": {
      "text/plain": [
       "array([1, 2])"
      ]
     },
     "execution_count": 49,
     "metadata": {},
     "output_type": "execute_result"
    }
   ],
   "source": [
    "I_p = np.flatnonzero(ratings_matrix[:, p])\n",
    "I_p"
   ]
  },
  {
   "cell_type": "markdown",
   "metadata": {},
   "source": [
    "Liczymy _U\\_I\\_p_ (czyli kolumny z macierzy _U_ o indeksach w _I\\_p_)"
   ]
  },
  {
   "cell_type": "code",
   "execution_count": 50,
   "metadata": {},
   "outputs": [
    {
     "data": {
      "text/plain": [
       "array([[0.90635812, 0.71271017],\n",
       "       [0.2316068 , 0.96492267],\n",
       "       [0.42064508, 0.83929454]])"
      ]
     },
     "execution_count": 50,
     "metadata": {},
     "output_type": "execute_result"
    }
   ],
   "source": [
    "U_I_p = U[:, I_p]\n",
    "U_I_p"
   ]
  },
  {
   "cell_type": "markdown",
   "metadata": {},
   "source": [
    "Przy okazji możemy policzyć transponowane _U\\_I\\_p_"
   ]
  },
  {
   "cell_type": "code",
   "execution_count": 51,
   "metadata": {},
   "outputs": [
    {
     "data": {
      "text/plain": [
       "array([[0.90635812, 0.2316068 , 0.42064508],\n",
       "       [0.71271017, 0.96492267, 0.83929454]])"
      ]
     },
     "execution_count": 51,
     "metadata": {},
     "output_type": "execute_result"
    }
   ],
   "source": [
    "U_I_p_T = U_I_p.T\n",
    "U_I_p_T"
   ]
  },
  {
   "cell_type": "markdown",
   "metadata": {},
   "source": [
    "Znowu liczymy macierz _E_ która jest macierzą jednostkową 3×3 (d×d)"
   ]
  },
  {
   "cell_type": "code",
   "execution_count": 52,
   "metadata": {},
   "outputs": [
    {
     "data": {
      "text/plain": [
       "array([[1., 0., 0.],\n",
       "       [0., 1., 0.],\n",
       "       [0., 0., 1.]])"
      ]
     },
     "execution_count": 52,
     "metadata": {},
     "output_type": "execute_result"
    }
   ],
   "source": [
    "E = np.eye(3)\n",
    "E"
   ]
  },
  {
   "cell_type": "markdown",
   "metadata": {},
   "source": [
    "Teraz możemy policzyć B_u"
   ]
  },
  {
   "cell_type": "code",
   "execution_count": 53,
   "metadata": {},
   "outputs": [
    {
     "data": {
      "text/plain": [
       "array([[1.42944083, 0.89762891, 0.97942884],\n",
       "       [0.89762891, 1.08471747, 0.9072786 ],\n",
       "       [0.97942884, 0.9072786 , 0.98135762]])"
      ]
     },
     "execution_count": 53,
     "metadata": {},
     "output_type": "execute_result"
    }
   ],
   "source": [
    "B_u = np.matmul(U_I_p ,U_I_p_T) + reg*E\n",
    "B_u"
   ]
  },
  {
   "cell_type": "markdown",
   "metadata": {},
   "source": [
    "Pozostało nam do policzenia _W\\_p_ czyli musimy dodać do siebie:\n",
    " * kolumnę 1 z macierzy _U_ pomnożoną przez 4 (rating)\n",
    " * kolumnę 2 z macierzy _U_ pomnożoną przez 5 (rating)\n",
    " \n",
    " \n",
    " To wygląda mniej więcej tak:"
   ]
  },
  {
   "cell_type": "code",
   "execution_count": 54,
   "metadata": {},
   "outputs": [
    {
     "name": "stdout",
     "output_type": "stream",
     "text": [
      "rating: 4, U_1 \n",
      "[[0.90635812]\n",
      " [0.2316068 ]\n",
      " [0.42064508]]\n",
      "\n",
      "rating: 5, U_2 \n",
      "[[0.71271017]\n",
      " [0.96492267]\n",
      " [0.83929454]]\n",
      "\n"
     ]
    }
   ],
   "source": [
    "for i in I_p:\n",
    "    print('rating: {}, U_{} '.format(ratings_matrix[i][p], i))\n",
    "    print(U[:, i].reshape(3,1))\n",
    "    print()"
   ]
  },
  {
   "cell_type": "markdown",
   "metadata": {},
   "source": [
    "To teraz mnożymy, dodajemy i wychodzi nam:"
   ]
  },
  {
   "cell_type": "code",
   "execution_count": 55,
   "metadata": {},
   "outputs": [
    {
     "data": {
      "text/plain": [
       "array([7.18898332, 5.75104058, 5.87905305])"
      ]
     },
     "execution_count": 55,
     "metadata": {},
     "output_type": "execute_result"
    }
   ],
   "source": [
    "W_p = np.zeros(d)\n",
    "for i in I_p:\n",
    "    W_p += ratings_matrix[i, p] * U[:, i]\n",
    "\n",
    "W_p"
   ]
  },
  {
   "cell_type": "markdown",
   "metadata": {},
   "source": [
    "Jak już mamy wszystko policzone, możemy podstawić _B\\_p_ oraz _W\\_u_ do gaussa:"
   ]
  },
  {
   "cell_type": "code",
   "execution_count": 56,
   "metadata": {},
   "outputs": [
    {
     "data": {
      "text/plain": [
       "array([-0.45457671,  3.05289459,  3.9132431 ])"
      ]
     },
     "execution_count": 56,
     "metadata": {},
     "output_type": "execute_result"
    }
   ],
   "source": [
    "solution = gauss_method(A_u, V_u) # Tu jest gauss z zadania 2 z częściowym wyborem\n",
    "solution"
   ]
  },
  {
   "cell_type": "markdown",
   "metadata": {},
   "source": [
    "Jak już to policzyliśmy to zamieniamy kolumne p=0 w macierzy _P_ z naszym rozwiązaniem  \n",
    "Macierz _P_ przed zamianą"
   ]
  },
  {
   "cell_type": "code",
   "execution_count": 57,
   "metadata": {},
   "outputs": [
    {
     "data": {
      "text/plain": [
       "array([[0.93119636, 0.01215318, 0.82254304, 0.92704314, 0.72097256,\n",
       "        0.1119594 , 0.05907673, 0.27337659, 0.51578453, 0.47299487],\n",
       "       [0.1671686 , 0.02328032, 0.64793332, 0.46310597, 0.98508579,\n",
       "        0.23390272, 0.34862754, 0.29751156, 0.81994987, 0.32293732],\n",
       "       [0.72302848, 0.91165485, 0.70980305, 0.20125138, 0.33071352,\n",
       "        0.40941998, 0.6984816 , 0.94986196, 0.52719633, 0.66722182]])"
      ]
     },
     "execution_count": 57,
     "metadata": {},
     "output_type": "execute_result"
    }
   ],
   "source": [
    "P"
   ]
  },
  {
   "cell_type": "markdown",
   "metadata": {},
   "source": [
    "Po zamianie kolumny"
   ]
  },
  {
   "cell_type": "code",
   "execution_count": 58,
   "metadata": {},
   "outputs": [
    {
     "data": {
      "text/plain": [
       "array([[-0.45457671,  0.01215318,  0.82254304,  0.92704314,  0.72097256,\n",
       "         0.1119594 ,  0.05907673,  0.27337659,  0.51578453,  0.47299487],\n",
       "       [ 3.05289459,  0.02328032,  0.64793332,  0.46310597,  0.98508579,\n",
       "         0.23390272,  0.34862754,  0.29751156,  0.81994987,  0.32293732],\n",
       "       [ 3.9132431 ,  0.91165485,  0.70980305,  0.20125138,  0.33071352,\n",
       "         0.40941998,  0.6984816 ,  0.94986196,  0.52719633,  0.66722182]])"
      ]
     },
     "execution_count": 58,
     "metadata": {},
     "output_type": "execute_result"
    }
   ],
   "source": [
    "P[:, p] = solution\n",
    "P"
   ]
  },
  {
   "cell_type": "markdown",
   "metadata": {},
   "source": [
    "Dla kolejnych _p_ postępujemy analogicznie"
   ]
  },
  {
   "cell_type": "markdown",
   "metadata": {},
   "source": [
    "Koniec"
   ]
  }
 ],
 "metadata": {
  "kernelspec": {
   "display_name": "Python 3",
   "language": "python",
   "name": "python3"
  },
  "language_info": {
   "codemirror_mode": {
    "name": "ipython",
    "version": 3
   },
   "file_extension": ".py",
   "mimetype": "text/x-python",
   "name": "python",
   "nbconvert_exporter": "python",
   "pygments_lexer": "ipython3",
   "version": "3.6.7"
  }
 },
 "nbformat": 4,
 "nbformat_minor": 4
}
